{
 "metadata": {
  "language_info": {
   "codemirror_mode": {
    "name": "ipython",
    "version": 3
   },
   "file_extension": ".py",
   "mimetype": "text/x-python",
   "name": "python",
   "nbconvert_exporter": "python",
   "pygments_lexer": "ipython3",
   "version": "3.9.5"
  },
  "orig_nbformat": 2,
  "kernelspec": {
   "name": "python395jvsc74a57bd04c607887719a78a28100af88f1c98c3696f295feb92f5b92220478f49f6a09d0",
   "display_name": "Python 3.9.5 64-bit ('env')"
  },
  "metadata": {
   "interpreter": {
    "hash": "4c607887719a78a28100af88f1c98c3696f295feb92f5b92220478f49f6a09d0"
   }
  }
 },
 "nbformat": 4,
 "nbformat_minor": 2,
 "cells": [
  {
   "cell_type": "code",
   "execution_count": 13,
   "metadata": {},
   "outputs": [],
   "source": [
    "grid = [[\"_\" for i in range(5)] for j in range(5)]\n"
   ]
  },
  {
   "cell_type": "code",
   "execution_count": 14,
   "metadata": {},
   "outputs": [],
   "source": [
    "hclues = ((3,), (2,), (1, 1), (2,), (4,))\n",
    "vclues = ((2,), (3, 1), (1, 2), (3,), (1,))"
   ]
  },
  {
   "cell_type": "code",
   "execution_count": 15,
   "metadata": {},
   "outputs": [],
   "source": [
    "clues = [hclues,vclues]\n",
    "class Board:\n",
    "    def __init__(self,grid,clues):\n",
    "        self.grid = grid\n",
    "        self.hclues = clues[0]\n",
    "        self.vclues = clues[1]\n",
    "        self.setup()\n",
    "\n",
    "    def setup(self):\n",
    "        self.h_rows = {}\n",
    "        self.v_rows = {}\n",
    "        for i in range(len(self.hclues)):\n",
    "            self.h_rows[i] = {\"clue\": self.hclues[i], \"row\": self.grid[i]}\n",
    "            self.v_rows[i] = {\"clue\": self.vclues[i], \"row\": [self.grid[k][i] for k in range(len(self.vclues))]}\n",
    "\n",
    "    def get_cell(self, h, v):\n",
    "        return self.h_rows[h][\"row\"][v]\n",
    "    \n",
    "    def set_cell(self, h, v, value):\n",
    "        self.h_rows[h][\"row\"][v] = val\n",
    "        self.grid[h][v] = val\n",
    "        self.v_rows[v][\"row\"][h] = val\n",
    "    \n",
    "    def get_row(self, rows, i):\n",
    "        if rows == self.h_rows:\n",
    "            return self.h_rows[i]\n",
    "        elif rows == self.v_rows:\n",
    "            return self.v_rows[i]"
   ]
  },
  {
   "cell_type": "code",
   "execution_count": 16,
   "metadata": {},
   "outputs": [],
   "source": [
    "b = Board(grid,clues)\n"
   ]
  },
  {
   "cell_type": "code",
   "execution_count": 17,
   "metadata": {},
   "outputs": [
    {
     "output_type": "execute_result",
     "data": {
      "text/plain": [
       "<__main__.Board at 0x18df2f1b3d0>"
      ]
     },
     "metadata": {},
     "execution_count": 17
    }
   ],
   "source": []
  },
  {
   "cell_type": "code",
   "execution_count": 29,
   "metadata": {},
   "outputs": [
    {
     "output_type": "stream",
     "name": "stdout",
     "text": [
      "{'clue': (2,), 'row': ['_', '_', '_', '_', '_']}\n{'clue': (3, 1), 'row': ['_', '_', '_', '_', '_']}\n{'clue': (1, 2), 'row': ['_', '_', '_', '_', '_']}\n{'clue': (3,), 'row': ['_', '_', '_', '_', '_']}\n{'clue': (1,), 'row': ['_', '_', '_', '_', '_']}\n"
     ]
    }
   ],
   "source": [
    "for i in range(len(b.v_rows)):\n",
    "    row = b.get_row(b.v_rows, i)\n",
    "    print(row)"
   ]
  },
  {
   "cell_type": "code",
   "execution_count": 37,
   "metadata": {},
   "outputs": [],
   "source": [
    "def comb(clues, row, solutions,start):\n",
    "    print(clues, row, solutions)\n",
    "    if len(clues) == 0:\n",
    "        solutions.append(row)\n",
    "        return\n",
    "    pool = tuple(row)\n",
    "    n = len(pool)\n",
    "    for i in range(start,n):\n",
    "        clue = clues[0]\n",
    "        if start + clue > n: return\n",
    "        idx = list(range(start,clue + start))\n",
    "        nrow = [1 if i in idx else x for i,x in enumerate(pool)]\n",
    "        comb(clues[1:], nrow, solutions, clue + start + 1)\n",
    "        start += 1\n",
    "        \n",
    "    "
   ]
  },
  {
   "cell_type": "code",
   "execution_count": 38,
   "metadata": {},
   "outputs": [
    {
     "output_type": "stream",
     "name": "stdout",
     "text": [
      "(2,) ['_', '_', '_', '_', '_'] []\n() [1, 1, '_', '_', '_'] []\n() ['_', 1, 1, '_', '_'] [[1, 1, '_', '_', '_']]\n() ['_', '_', 1, 1, '_'] [[1, 1, '_', '_', '_'], ['_', 1, 1, '_', '_']]\n() ['_', '_', '_', 1, 1] [[1, 1, '_', '_', '_'], ['_', 1, 1, '_', '_'], ['_', '_', 1, 1, '_']]\nNone\n[[1, 1, '_', '_', '_'], ['_', 1, 1, '_', '_'], ['_', '_', 1, 1, '_'], ['_', '_', '_', 1, 1]]\n(3, 1) ['_', '_', '_', '_', '_'] []\n(1,) [1, 1, 1, '_', '_'] []\n() [1, 1, 1, '_', 1] []\n(1,) ['_', 1, 1, 1, '_'] [[1, 1, 1, '_', 1]]\n(1,) ['_', '_', 1, 1, 1] [[1, 1, 1, '_', 1]]\nNone\n[[1, 1, 1, '_', 1]]\n(1, 2) ['_', '_', '_', '_', '_'] []\n(2,) [1, '_', '_', '_', '_'] []\n() [1, '_', 1, 1, '_'] []\n() [1, '_', '_', 1, 1] [[1, '_', 1, 1, '_']]\n(2,) ['_', 1, '_', '_', '_'] [[1, '_', 1, 1, '_'], [1, '_', '_', 1, 1]]\n() ['_', 1, '_', 1, 1] [[1, '_', 1, 1, '_'], [1, '_', '_', 1, 1]]\n(2,) ['_', '_', 1, '_', '_'] [[1, '_', 1, 1, '_'], [1, '_', '_', 1, 1], ['_', 1, '_', 1, 1]]\n(2,) ['_', '_', '_', 1, '_'] [[1, '_', 1, 1, '_'], [1, '_', '_', 1, 1], ['_', 1, '_', 1, 1]]\n(2,) ['_', '_', '_', '_', 1] [[1, '_', 1, 1, '_'], [1, '_', '_', 1, 1], ['_', 1, '_', 1, 1]]\nNone\n[[1, '_', 1, 1, '_'], [1, '_', '_', 1, 1], ['_', 1, '_', 1, 1]]\n(3,) ['_', '_', '_', '_', '_'] []\n() [1, 1, 1, '_', '_'] []\n() ['_', 1, 1, 1, '_'] [[1, 1, 1, '_', '_']]\n() ['_', '_', 1, 1, 1] [[1, 1, 1, '_', '_'], ['_', 1, 1, 1, '_']]\nNone\n[[1, 1, 1, '_', '_'], ['_', 1, 1, 1, '_'], ['_', '_', 1, 1, 1]]\n(1,) ['_', '_', '_', '_', '_'] []\n() [1, '_', '_', '_', '_'] []\n() ['_', 1, '_', '_', '_'] [[1, '_', '_', '_', '_']]\n() ['_', '_', 1, '_', '_'] [[1, '_', '_', '_', '_'], ['_', 1, '_', '_', '_']]\n() ['_', '_', '_', 1, '_'] [[1, '_', '_', '_', '_'], ['_', 1, '_', '_', '_'], ['_', '_', 1, '_', '_']]\n() ['_', '_', '_', '_', 1] [[1, '_', '_', '_', '_'], ['_', 1, '_', '_', '_'], ['_', '_', 1, '_', '_'], ['_', '_', '_', 1, '_']]\nNone\n[[1, '_', '_', '_', '_'], ['_', 1, '_', '_', '_'], ['_', '_', 1, '_', '_'], ['_', '_', '_', 1, '_'], ['_', '_', '_', '_', 1]]\n"
     ]
    }
   ],
   "source": [
    "def it():\n",
    "    for i in range(len(b.v_rows)):\n",
    "        solutions = []\n",
    "        row = b.get_row(b.v_rows, i)\n",
    "        clue = row[\"clue\"]\n",
    "        lst = row[\"row\"]\n",
    "        l = comb(clue,lst,solutions,0)\n",
    "        print(l)\n",
    "        print(solutions)\n",
    "it()"
   ]
  },
  {
   "cell_type": "code",
   "execution_count": 41,
   "metadata": {},
   "outputs": [
    {
     "output_type": "stream",
     "name": "stdout",
     "text": [
      "0 5\n1\n1 5\n5\n2 5\n10\n3 5\n10\n4 5\n5\n"
     ]
    }
   ],
   "source": [
    "import math\n",
    "\n",
    "row = [\"_\",\"_\",\"_\",\"_\",\"_\"]\n",
    "clues = list(range(len(row)))\n",
    "for clue in clues:\n",
    "    print(clue,len(row))\n",
    "    l = math.comb(len(row),clue)\n",
    "    print(l)"
   ]
  },
  {
   "cell_type": "code",
   "execution_count": 42,
   "metadata": {},
   "outputs": [
    {
     "output_type": "execute_result",
     "data": {
      "text/plain": [
       "inf"
      ]
     },
     "metadata": {},
     "execution_count": 42
    }
   ],
   "source": []
  },
  {
   "cell_type": "code",
   "execution_count": 45,
   "metadata": {},
   "outputs": [
    {
     "output_type": "execute_result",
     "data": {
      "text/plain": [
       "0"
      ]
     },
     "metadata": {},
     "execution_count": 45
    }
   ],
   "source": [
    "row = [1,1,1,1,0,1,1,1,0,1]\n",
    "row.count([1,1])"
   ]
  },
  {
   "cell_type": "code",
   "execution_count": 50,
   "metadata": {},
   "outputs": [
    {
     "output_type": "execute_result",
     "data": {
      "text/plain": [
       "[1, 2, 3, 6, 7]"
      ]
     },
     "metadata": {},
     "execution_count": 50
    }
   ],
   "source": [
    "import itertools\n",
    "list(filter(lambda x: row[x] == 1 and row[x-1] == 1, range(1,len(row))))"
   ]
  },
  {
   "cell_type": "code",
   "execution_count": 57,
   "metadata": {},
   "outputs": [
    {
     "output_type": "execute_result",
     "data": {
      "text/plain": [
       "[3, 6]"
      ]
     },
     "metadata": {},
     "execution_count": 57
    }
   ],
   "source": [
    "list(itertools.filterfalse(lambda x: x % 3 != 0,list(itertools.accumulate((itertools.dropwhile(lambda x: x != 1, row))))))"
   ]
  },
  {
   "cell_type": "code",
   "execution_count": 59,
   "metadata": {},
   "outputs": [
    {
     "output_type": "execute_result",
     "data": {
      "text/plain": [
       "[3, 6]"
      ]
     },
     "metadata": {},
     "execution_count": 59
    }
   ],
   "source": [
    "list(filter(lambda x: x % 3 == 0,itertools.accumulate((filter(lambda x: x == 1, row)))))"
   ]
  },
  {
   "cell_type": "code",
   "execution_count": 63,
   "metadata": {},
   "outputs": [
    {
     "output_type": "execute_result",
     "data": {
      "text/plain": [
       "(2, True)"
      ]
     },
     "metadata": {},
     "execution_count": 63
    }
   ],
   "source": [
    "2,1 in row"
   ]
  },
  {
   "cell_type": "code",
   "execution_count": 65,
   "metadata": {},
   "outputs": [
    {
     "output_type": "stream",
     "name": "stdout",
     "text": [
      "[False, False, False]\n"
     ]
    }
   ],
   "source": [
    "r = []\n",
    "r1 = [0]\n",
    "r2 = [None]\n",
    "print([a == True for a in [r,r1,r2]])"
   ]
  },
  {
   "cell_type": "code",
   "execution_count": 1,
   "metadata": {},
   "outputs": [
    {
     "output_type": "execute_result",
     "data": {
      "text/plain": [
       "1"
      ]
     },
     "metadata": {},
     "execution_count": 1
    }
   ],
   "source": [
    "1 & 1"
   ]
  },
  {
   "cell_type": "code",
   "execution_count": 2,
   "metadata": {},
   "outputs": [
    {
     "output_type": "execute_result",
     "data": {
      "text/plain": [
       "0"
      ]
     },
     "metadata": {},
     "execution_count": 2
    }
   ],
   "source": [
    "0 & 1"
   ]
  },
  {
   "cell_type": "code",
   "execution_count": 3,
   "metadata": {},
   "outputs": [
    {
     "output_type": "error",
     "ename": "TypeError",
     "evalue": "unsupported operand type(s) for &: 'str' and 'int'",
     "traceback": [
      "\u001b[1;31m---------------------------------------------------------------------------\u001b[0m",
      "\u001b[1;31mTypeError\u001b[0m                                 Traceback (most recent call last)",
      "\u001b[1;32m<ipython-input-3-d67b8773f091>\u001b[0m in \u001b[0;36m<module>\u001b[1;34m\u001b[0m\n\u001b[1;32m----> 1\u001b[1;33m \u001b[1;34m\"_\"\u001b[0m \u001b[1;33m&\u001b[0m \u001b[1;36m1\u001b[0m\u001b[1;33m\u001b[0m\u001b[1;33m\u001b[0m\u001b[0m\n\u001b[0m",
      "\u001b[1;31mTypeError\u001b[0m: unsupported operand type(s) for &: 'str' and 'int'"
     ]
    }
   ],
   "source": [
    "\"_\" & 1\n"
   ]
  },
  {
   "cell_type": "code",
   "execution_count": 3,
   "metadata": {},
   "outputs": [
    {
     "output_type": "execute_result",
     "data": {
      "text/plain": [
       "[12, 72, 3888, 384912, 16936128, 5284071936]"
      ]
     },
     "metadata": {},
     "execution_count": 3
    }
   ],
   "source": [
    "import itertools\n",
    "import operator\n",
    "product = lambda seq: itertools.accumulate(seq, operator.mul)\n",
    "seq = [12,6,54,99,44,312]\n",
    "list(product(seq))"
   ]
  },
  {
   "cell_type": "code",
   "execution_count": null,
   "metadata": {},
   "outputs": [],
   "source": []
  }
 ]
}